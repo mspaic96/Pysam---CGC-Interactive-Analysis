{
 "cells": [
  {
   "cell_type": "code",
   "execution_count": 15,
   "metadata": {},
   "outputs": [
    {
     "name": "stdout",
     "output_type": "stream",
     "text": [
      "Total number of unmapped reads : 17765\n",
      "Total number of reads : 2921629\n",
      "Total number of  reads with mapping quality 0 : 126628\n",
      "Average mapping quality for all reads :55.91379158681681\n",
      "Average mapping quality for all reads if 0 mapp quality are filtered out :58.446975510921106\n"
     ]
    }
   ],
   "source": [
    "import pysam\n",
    "samplefile = pysam.AlignmentFile(\"/sbgenomics/project-files/merged-tumor.bam\")\n",
    "totalNumberOfReads = samplefile.count(until_eof=True)\n",
    "\n",
    "\n",
    "readsWithMappingQualityZero = 0\n",
    "unmappedReads = 0\n",
    "sumMappingQuality = 0\n",
    "sumMappingQualityWithoutZero = 0\n",
    "for read in pysam.AlignmentFile(\"/sbgenomics/project-files/merged-tumor.bam\"):\n",
    "    sumMappingQuality = sumMappingQuality + read.mapping_quality \n",
    "    if read.flag & 0x4 :\n",
    "        unmappedReads = unmappedReads + 1\n",
    "    if read.mapping_quality == 0 :\n",
    "        readsWithMappingQualityZero = readsWithMappingQualityZero + 1\n",
    "    else :\n",
    "         sumMappingQualityWithoutZero = sumMappingQualityWithoutZero + read.mapping_quality\n",
    "        \n",
    "\n",
    "print(\"Total number of unmapped reads : \" + str(unmappedReads))\n",
    "print(\"Total number of reads : \" + str(totalNumberOfReads))\n",
    "print(\"Total number of  reads with mapping quality 0 : \" + str(readsWithMappingQualityZero))\n",
    "print(\"Average mapping quality for all reads :\" + str(sumMappingQuality/totalNumberOfReads))\n",
    "print(\"Average mapping quality for all reads if 0 mapp quality are filtered out :\" + str(sumMappingQualityWithoutZero/(totalNumberOfReads-readsWithMappingQualityZero)))"
   ]
  },
  {
   "cell_type": "code",
   "execution_count": null,
   "metadata": {},
   "outputs": [],
   "source": []
  }
 ],
 "metadata": {
  "kernelspec": {
   "display_name": "Python 3",
   "language": "python",
   "name": "python3"
  },
  "language_info": {
   "codemirror_mode": {
    "name": "ipython",
    "version": 3
   },
   "file_extension": ".py",
   "mimetype": "text/x-python",
   "name": "python",
   "nbconvert_exporter": "python",
   "pygments_lexer": "ipython3",
   "version": "3.8.3"
  }
 },
 "nbformat": 4,
 "nbformat_minor": 4
}
